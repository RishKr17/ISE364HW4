{
 "cells": [
  {
   "cell_type": "markdown",
   "metadata": {},
   "source": [
    "# Before you start: \n",
    "\n",
    "This HW is different from the previous ones, that it allows you to choose your own datasets and model sizes. Hence answers may not be fixed, if you found any results ambiguous or not sufficiently good, then make your best guess. \n",
    "\n",
    "- If the data you choose is too big, you can use a part of the dataset and/or run the notebook in Google Colaboratory. \n",
    "- You may use CPU or GPU to train the data. \n",
    "- Allow sufficient time for training as it may take times. \n",
    "- If your notebook takes >= 2 days to run entirely, you might be using the wrong data scale or model scale or your code is not efficient in some sense. \n",
    "\n",
    "Finally, **make sure to run the entire notebook and all results are visible before you submit the file**. If not, you may get a penalty. "
   ]
  },
  {
   "cell_type": "markdown",
   "metadata": {},
   "source": [
    "# Fully Connected Network Exercise\n",
    "\n",
    "Maximum Number of points: 56 pts\n",
    "\n",
    "Data Analysis: 20 pts \n",
    "\n",
    "Data Loader: 12 pts\n",
    "\n",
    "Model Training, Testing, Results Interpretations: 24 pts"
   ]
  },
  {
   "cell_type": "markdown",
   "metadata": {},
   "source": [
    "**For this exercise, you will pick one dataset from the following list of datasets in Seaborn package, to perform REGRESSION Task.**\n",
    "\n",
    "anagrams\n",
    "\n",
    "anscombe\n",
    "\n",
    "attention\n",
    "\n",
    "brain_networks\n",
    "\n",
    "car_crashes\n",
    "\n",
    "planets\n",
    "\n",
    "taxis\n",
    "\n",
    "flights\n",
    "\n",
    "fmri\n",
    "\n",
    "tips\n",
    "\n",
    "titanic\n",
    "\n",
    "diamonds\n",
    "\n",
    "dots\n",
    "\n",
    "dowjones\n",
    "\n",
    "healthexp\n",
    "\n",
    "exercise\n",
    "\n",
    "geyser\n",
    "\n",
    "seaice\n",
    "\n",
    "penguins\n",
    "\n",
    "glue\n",
    "\n",
    "mpg\n",
    "\n",
    "Note: To encourage diversity, members of the same final project group must select different datasets for their submissions. Please communicate with your teammates to make sure there is no overlap."
   ]
  },
  {
   "cell_type": "markdown",
   "metadata": {},
   "source": [
    "\n",
    "**Import usual libraries you would use.**"
   ]
  },
  {
   "cell_type": "code",
   "execution_count": null,
   "metadata": {},
   "outputs": [],
   "source": []
  },
  {
   "cell_type": "markdown",
   "metadata": {},
   "source": [
    "**1. What is the dataset you choose?** "
   ]
  },
  {
   "cell_type": "code",
   "execution_count": null,
   "metadata": {},
   "outputs": [],
   "source": [
    "# WRITE YOUR ANSWER HERE"
   ]
  },
  {
   "cell_type": "markdown",
   "metadata": {},
   "source": [
    "**2. Write a short paragraph to describe the features of the dataset. (This info can be found online).**"
   ]
  },
  {
   "cell_type": "code",
   "execution_count": null,
   "metadata": {},
   "outputs": [],
   "source": [
    "# WRITE YOUR ANSWER HERE"
   ]
  },
  {
   "cell_type": "markdown",
   "metadata": {},
   "source": [
    "**3. What is your input and target features for regression? (You may refer to the dataset description to find the usual tasks needed to perform on this dataset. Also you can do data manipulations).**"
   ]
  },
  {
   "cell_type": "code",
   "execution_count": null,
   "metadata": {},
   "outputs": [],
   "source": [
    "# WRITE YOUR ANSWER HERE\n"
   ]
  },
  {
   "cell_type": "markdown",
   "metadata": {},
   "source": [
    "**4. Import the data from seaborn and check the head of the dataframe.**"
   ]
  },
  {
   "cell_type": "code",
   "execution_count": null,
   "metadata": {
    "scrolled": false
   },
   "outputs": [],
   "source": [
    "# WRITE YOUR ANSWER HERE"
   ]
  },
  {
   "cell_type": "code",
   "execution_count": null,
   "metadata": {},
   "outputs": [],
   "source": []
  },
  {
   "cell_type": "markdown",
   "metadata": {},
   "source": [
    "# Explore the data\n",
    "\n",
    "**In this section, show at least three plots to explore the data and summarize what you see.**\n",
    "\n",
    "E.g. the plots can be: \n",
    "histogram, \n",
    "pairplot, \n",
    "countplot,\n",
    "jointplot,\n",
    "heatmap,\n",
    "linear model plot,\n",
    "kde distribution\n",
    "\n",
    "Alternatively, you can replace one plot by data transformation e.g. categorical data to numbers or other types of data manipulation."
   ]
  },
  {
   "cell_type": "markdown",
   "metadata": {},
   "source": [
    "**5. Plot 1**"
   ]
  },
  {
   "cell_type": "code",
   "execution_count": null,
   "metadata": {},
   "outputs": [],
   "source": [
    "# WRITE YOUR ANSWER HERE"
   ]
  },
  {
   "cell_type": "markdown",
   "metadata": {},
   "source": [
    "**6. Summary the insights you see from this plot in 1-3 sentences.**"
   ]
  },
  {
   "cell_type": "code",
   "execution_count": null,
   "metadata": {},
   "outputs": [],
   "source": [
    "# WRITE YOUR ANSWER HERE"
   ]
  },
  {
   "cell_type": "markdown",
   "metadata": {},
   "source": [
    "**7. Plot 2**"
   ]
  },
  {
   "cell_type": "code",
   "execution_count": null,
   "metadata": {},
   "outputs": [],
   "source": [
    "# WRITE YOUR ANSWER HERE"
   ]
  },
  {
   "cell_type": "markdown",
   "metadata": {},
   "source": [
    "**8. Summary the insights you see from this plot in 1-3 sentences.**"
   ]
  },
  {
   "cell_type": "code",
   "execution_count": null,
   "metadata": {},
   "outputs": [],
   "source": [
    "# WRITE YOUR ANSWER HERE"
   ]
  },
  {
   "cell_type": "markdown",
   "metadata": {},
   "source": [
    "**9. Plot 3**"
   ]
  },
  {
   "cell_type": "code",
   "execution_count": null,
   "metadata": {},
   "outputs": [],
   "source": [
    "# WRITE YOUR ANSWER HERE"
   ]
  },
  {
   "cell_type": "markdown",
   "metadata": {},
   "source": [
    "**10. Summary the insights you see from this plot in 1-3 sentences.**"
   ]
  },
  {
   "cell_type": "code",
   "execution_count": null,
   "metadata": {},
   "outputs": [],
   "source": [
    "# WRITE YOUR ANSWER HERE"
   ]
  },
  {
   "cell_type": "markdown",
   "metadata": {},
   "source": [
    "**(Alternatively) 9-10. Data Transformation/Manipulation (not including scaling).**"
   ]
  },
  {
   "cell_type": "code",
   "execution_count": null,
   "metadata": {},
   "outputs": [],
   "source": [
    "# WRITE YOUR ANSWER HERE"
   ]
  },
  {
   "cell_type": "markdown",
   "metadata": {},
   "source": [
    "# Load the dataset in PyTorch \n",
    "\n",
    "**11-13. In this question, you need to create the dataloader for your seaborn dataset. (6 pts)**\n",
    "\n",
    "Tip: This can be done using either way: \n",
    "\n",
    "1. Reading dataframe file from seaborn library, convert it to PyTorch tensor and create dataloaders.\n",
    "2. Download a csv from the seaborn github, using that csv in creating PyTorch dataloaders. (https://github.com/mwaskom/seaborn-data)"
   ]
  },
  {
   "cell_type": "code",
   "execution_count": null,
   "metadata": {},
   "outputs": [],
   "source": [
    "# WRITE YOUR ANSWER HERE"
   ]
  },
  {
   "cell_type": "code",
   "execution_count": null,
   "metadata": {},
   "outputs": [],
   "source": []
  },
  {
   "cell_type": "code",
   "execution_count": null,
   "metadata": {},
   "outputs": [],
   "source": []
  },
  {
   "cell_type": "markdown",
   "metadata": {},
   "source": [
    "**14. Check: Make sure you scaled/ normalized the dataset.**"
   ]
  },
  {
   "cell_type": "code",
   "execution_count": null,
   "metadata": {},
   "outputs": [],
   "source": [
    "# WRITE YOUR ANSWER HERE"
   ]
  },
  {
   "cell_type": "markdown",
   "metadata": {},
   "source": [
    "## Training set and testing set."
   ]
  },
  {
   "cell_type": "markdown",
   "metadata": {},
   "source": [
    "**15. Split the data into a training set and a testing set using 30% test size.**\n",
    "\n",
    "Tip: Use torch.utils.data.random_split to divide the full_dataset into the specified sizes."
   ]
  },
  {
   "cell_type": "code",
   "execution_count": null,
   "metadata": {},
   "outputs": [],
   "source": [
    "# WRITE YOUR ANSWER HERE"
   ]
  },
  {
   "cell_type": "markdown",
   "metadata": {},
   "source": [
    "**16. Your dataloader should looks like this. Choose a batch size here.**"
   ]
  },
  {
   "cell_type": "code",
   "execution_count": null,
   "metadata": {},
   "outputs": [],
   "source": [
    "from torch.utils.data import DataLoader\n",
    "\n",
    "batch_size = # YOUR CHOSEN BATCH SIZE \n",
    "train_dataloader = DataLoader(training_data, batch_size=batch_size, shuffle=True)\n",
    "test_dataloader = DataLoader(test_data, batch_size=batch_size, shuffle=True)"
   ]
  },
  {
   "cell_type": "markdown",
   "metadata": {},
   "source": [
    "## Create a Fully Connected Neural Networks\n",
    "\n",
    "**17-19. Your network should have at least 3 layers. Feel free to choose the number of nodes in each layer. (6 pts)** "
   ]
  },
  {
   "cell_type": "code",
   "execution_count": null,
   "metadata": {},
   "outputs": [],
   "source": [
    "class FCNeuralNetwork(nn.Module):\n",
    "    # WRITE YOUR ANSWER HERE"
   ]
  },
  {
   "cell_type": "markdown",
   "metadata": {},
   "source": [
    "**20. Define the loss function & optimizer**"
   ]
  },
  {
   "cell_type": "code",
   "execution_count": null,
   "metadata": {},
   "outputs": [],
   "source": [
    "# WRITE YOUR ANSWER HERE"
   ]
  },
  {
   "cell_type": "markdown",
   "metadata": {},
   "source": [
    "**21-23. Fit the FCNN model to the training data. (6 pts)**"
   ]
  },
  {
   "cell_type": "code",
   "execution_count": null,
   "metadata": {},
   "outputs": [],
   "source": [
    "# WRITE YOUR ANSWER HERE"
   ]
  },
  {
   "cell_type": "markdown",
   "metadata": {},
   "source": [
    "## Predict and Evaluate"
   ]
  },
  {
   "cell_type": "markdown",
   "metadata": {},
   "source": [
    "**24. Predict values using the model and test data.**"
   ]
  },
  {
   "cell_type": "code",
   "execution_count": null,
   "metadata": {},
   "outputs": [],
   "source": [
    "# WRITE YOUR ANSWER HERE"
   ]
  },
  {
   "cell_type": "markdown",
   "metadata": {},
   "source": [
    "**25. Compute the error on the test data**"
   ]
  },
  {
   "cell_type": "code",
   "execution_count": null,
   "metadata": {},
   "outputs": [],
   "source": [
    "# WRITE YOUR ANSWER HERE"
   ]
  },
  {
   "cell_type": "markdown",
   "metadata": {},
   "source": [
    "**26-27. Build a linear regression model in PyTorch and train it on train data. Compute the LR error on the test data. (4 pts)**"
   ]
  },
  {
   "cell_type": "code",
   "execution_count": null,
   "metadata": {
    "scrolled": true
   },
   "outputs": [],
   "source": [
    "# WRITE YOUR ANSWER HERE"
   ]
  },
  {
   "cell_type": "markdown",
   "metadata": {},
   "source": [
    "**28. Which model is better? Can you explain why?**"
   ]
  },
  {
   "cell_type": "code",
   "execution_count": null,
   "metadata": {},
   "outputs": [],
   "source": [
    "# WRITE YOUR ANSWER HERE"
   ]
  },
  {
   "cell_type": "markdown",
   "metadata": {},
   "source": [
    "# Convolutional Neural Network - Image Classification Exercise\n",
    "\n",
    "Maximum Number of points: 44\n",
    "\n",
    "Data Preparation: 14 pts\n",
    "\n",
    "Model Training, Testing, Results Interpretations: 30 pts\n"
   ]
  },
  {
   "cell_type": "markdown",
   "metadata": {},
   "source": [
    "**For this exercise, you will pick one dataset from the following list of datasets in Torchvision, to perform Image Classification Task.**\n",
    "\n",
    "Caltech 101. \n",
    "\n",
    "Caltech 256 Dataset.\n",
    "\n",
    "Large-scale CelebFaces Attributes (CelebA) Dataset Dataset.\n",
    "\n",
    "FGVC Aircraft Dataset.\n",
    "\n",
    "Places365 classification dataset.\n",
    "\n",
    "PCAM Dataset.\n",
    "\n",
    "SBU Captioned Photo Dataset.\n",
    "\n",
    "Stanford Cars Dataset.\n",
    "\n",
    "German Traffic Sign Recognition Benchmark (GTSRB) Dataset.\n",
    "\n",
    "CIFAR10 Dataset.\n",
    "\n",
    "CIFAR100 Dataset.\n",
    "\n",
    "Flickr8k Entities Dataset.\n",
    "\n",
    "iNaturalist Dataset.\n",
    "\n",
    "Imagenette image classification dataset.\n",
    "\n",
    "QMNIST Dataset.\n",
    "\n",
    "The Country211 Data Set from OpenAI.\n",
    "\n",
    "Describable Textures Dataset (DTD).\n",
    "\n",
    "EMNIST Dataset.\n",
    "\n",
    "RGB version of the EuroSAT Dataset.\n",
    "\n",
    "FER2013 Dataset.\n",
    "\n",
    "The Rendered SST2 Dataset.\n",
    "\n",
    "SEMEION Dataset.\n",
    "\n",
    "Oxford 102 Flower Dataset.\n",
    "\n",
    "The Food-101 Data Set.\n",
    "\n",
    "Omniglot Dataset.\n",
    "\n",
    "Oxford-IIIT Pet Dataset.\n",
    "\n",
    "STL10 Dataset.\n",
    "\n",
    "Kuzushiji-MNIST Dataset.\n",
    "\n",
    "LFW Dataset.\n",
    "\n",
    "LSUN dataset.\n",
    "\n",
    "The SUN397 Data Set.\n",
    "\n",
    "SVHN Dataset.\n",
    "\n",
    "USPS Dataset.\n",
    "\n",
    "\n",
    "Note: To encourage diversity, members of the same final project group must select different datasets for their submissions. Please communicate with your teammates to make sure there is no overlap."
   ]
  },
  {
   "cell_type": "markdown",
   "metadata": {},
   "source": [
    "\n",
    "**Import usual libraries you would use.**"
   ]
  },
  {
   "cell_type": "code",
   "execution_count": null,
   "metadata": {},
   "outputs": [],
   "source": []
  },
  {
   "cell_type": "markdown",
   "metadata": {},
   "source": [
    "**1. What is the dataset you choose?** "
   ]
  },
  {
   "cell_type": "code",
   "execution_count": null,
   "metadata": {},
   "outputs": [],
   "source": [
    "# WRITE YOUR ANSWER HERE"
   ]
  },
  {
   "cell_type": "markdown",
   "metadata": {},
   "source": [
    "**2. Write a short paragraph to describe the features of the dataset. What is the number of classes for your target variable? (This info can be found online).**"
   ]
  },
  {
   "cell_type": "code",
   "execution_count": null,
   "metadata": {},
   "outputs": [],
   "source": [
    "# WRITE YOUR ANSWER HERE\n",
    "\n",
    "\n",
    "\n",
    "\n",
    "# What is the number of classes for your target variable? "
   ]
  },
  {
   "cell_type": "markdown",
   "metadata": {},
   "source": [
    "# Load the dataset in PyTorch \n",
    "\n",
    "**3. Import the dataset you choose from the torch vision library.**\n"
   ]
  },
  {
   "cell_type": "code",
   "execution_count": null,
   "metadata": {},
   "outputs": [],
   "source": [
    "# WRITE YOUR ANSWER HERE"
   ]
  },
  {
   "cell_type": "markdown",
   "metadata": {},
   "source": [
    "**4. Check: Make sure you scaled/ normalized the dataset.**"
   ]
  },
  {
   "cell_type": "code",
   "execution_count": null,
   "metadata": {},
   "outputs": [],
   "source": [
    "# WRITE YOUR ANSWER HERE"
   ]
  },
  {
   "cell_type": "markdown",
   "metadata": {},
   "source": [
    "**5. Check: Make sure you have both the train and test datasets**"
   ]
  },
  {
   "cell_type": "code",
   "execution_count": null,
   "metadata": {},
   "outputs": [],
   "source": [
    "# WRITE YOUR ANSWER HERE"
   ]
  },
  {
   "cell_type": "markdown",
   "metadata": {},
   "source": [
    "**6-7. Plot 12 training images and their classes in one plot. (4 pts)**"
   ]
  },
  {
   "cell_type": "code",
   "execution_count": null,
   "metadata": {},
   "outputs": [],
   "source": [
    "# WRITE YOUR ANSWER HERE"
   ]
  },
  {
   "cell_type": "markdown",
   "metadata": {},
   "source": [
    "## Create a Convolutional Neural Networks\n",
    "\n",
    "**8-10. You may follow textbook examples of CNN network, or feel free to design new ones, as long as your network consists of convolutional layers, maxpool, and fully connected layers. (6 pts)** "
   ]
  },
  {
   "cell_type": "code",
   "execution_count": null,
   "metadata": {},
   "outputs": [],
   "source": [
    "class CNN(nn.Module):\n",
    "    # WRITE YOUR ANSWER HERE"
   ]
  },
  {
   "cell_type": "markdown",
   "metadata": {},
   "source": [
    "**11. Define the loss function & optimizer**"
   ]
  },
  {
   "cell_type": "code",
   "execution_count": null,
   "metadata": {},
   "outputs": [],
   "source": [
    "# WRITE YOUR ANSWER HERE"
   ]
  },
  {
   "cell_type": "markdown",
   "metadata": {},
   "source": [
    "**12-14. Fit the CNN model to the training data. (6 pts)**"
   ]
  },
  {
   "cell_type": "code",
   "execution_count": null,
   "metadata": {},
   "outputs": [],
   "source": [
    "# WRITE YOUR ANSWER HERE"
   ]
  },
  {
   "cell_type": "markdown",
   "metadata": {},
   "source": [
    "## Predict and Evaluate"
   ]
  },
  {
   "cell_type": "markdown",
   "metadata": {},
   "source": [
    "**15. Show the true and predicted label for 12 test data in one plot.**"
   ]
  },
  {
   "cell_type": "code",
   "execution_count": null,
   "metadata": {},
   "outputs": [],
   "source": [
    "# WRITE YOUR ANSWER HERE"
   ]
  },
  {
   "cell_type": "markdown",
   "metadata": {},
   "source": [
    "**16. Compute the error on the test data**"
   ]
  },
  {
   "cell_type": "code",
   "execution_count": null,
   "metadata": {},
   "outputs": [],
   "source": [
    "# WRITE YOUR ANSWER HERE"
   ]
  },
  {
   "cell_type": "markdown",
   "metadata": {},
   "source": [
    "**17-18. Build a logistic regression model in PyTorch and train it on train data. Compute the accuracy on the test data. (4 pts)**"
   ]
  },
  {
   "cell_type": "code",
   "execution_count": null,
   "metadata": {},
   "outputs": [],
   "source": [
    "# WRITE YOUR ANSWER HERE"
   ]
  },
  {
   "cell_type": "markdown",
   "metadata": {},
   "source": [
    "**19-21. Build a different CNN model and train it on train data. Compute the accuracy on the test data. Let's see if you can do better than prior results (6 pts)**"
   ]
  },
  {
   "cell_type": "code",
   "execution_count": null,
   "metadata": {},
   "outputs": [],
   "source": [
    "# WRITE YOUR ANSWER HERE"
   ]
  },
  {
   "cell_type": "markdown",
   "metadata": {},
   "source": [
    "**22. Compare those three models, which one is the best? Can you explain why?**"
   ]
  },
  {
   "cell_type": "code",
   "execution_count": null,
   "metadata": {},
   "outputs": [],
   "source": [
    "# WRITE YOUR ANSWER HERE"
   ]
  }
 ],
 "metadata": {
  "@webio": {
   "lastCommId": null,
   "lastKernelId": null
  },
  "kernelspec": {
   "display_name": "Python 3 (ipykernel)",
   "language": "python",
   "name": "python3"
  },
  "language_info": {
   "codemirror_mode": {
    "name": "ipython",
    "version": 3
   },
   "file_extension": ".py",
   "mimetype": "text/x-python",
   "name": "python",
   "nbconvert_exporter": "python",
   "pygments_lexer": "ipython3",
   "version": "3.9.12"
  }
 },
 "nbformat": 4,
 "nbformat_minor": 1
}
